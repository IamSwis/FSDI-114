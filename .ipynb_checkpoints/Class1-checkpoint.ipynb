{
 "cells": [
  {
   "cell_type": "code",
   "execution_count": 1,
   "id": "eca616bf-0c83-47f4-8411-68921172d5f7",
   "metadata": {},
   "outputs": [
    {
     "name": "stdout",
     "output_type": "stream",
     "text": [
      "h\n",
      "e\n",
      "l\n",
      "l\n",
      "o\n",
      ",\n",
      " \n",
      "w\n",
      "o\n",
      "r\n",
      "l\n",
      "d\n",
      "!\n"
     ]
    }
   ],
   "source": [
    "for char in \"hello, world!\":\n",
    "    print (char)\n",
    "\n"
   ]
  },
  {
   "cell_type": "markdown",
   "id": "051a5ddd-bd76-4a55-a289-811ef2e9c895",
   "metadata": {},
   "source": [
    "#Problem1\n",
    "## Anagram check\n",
    "\n",
    "Given two strings as inputs to your function, determine if these are anagrams of each other. return `True` if they are, `False` otherwise. \n",
    "\n",
    "## Criteria \n",
    "Two strings are anagrams if all the criteria below are met: \n",
    "1. They must be of equal length.\n",
    "2. They must use the same letters, the same amountof times.\n",
    "\n",
    "```\n",
    "Examples\n",
    "naa"
   ]
  }
 ],
 "metadata": {
  "kernelspec": {
   "display_name": "Python 3 (ipykernel)",
   "language": "python",
   "name": "python3"
  },
  "language_info": {
   "codemirror_mode": {
    "name": "ipython",
    "version": 3
   },
   "file_extension": ".py",
   "mimetype": "text/x-python",
   "name": "python",
   "nbconvert_exporter": "python",
   "pygments_lexer": "ipython3",
   "version": "3.11.8"
  }
 },
 "nbformat": 4,
 "nbformat_minor": 5
}
