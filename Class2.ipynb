{
 "cells": [
  {
   "cell_type": "code",
   "execution_count": 3,
   "id": "f0c86087-b1d2-4dbc-addb-a78c4c5dc8fe",
   "metadata": {},
   "outputs": [],
   "source": [
    "#Simplified implementation of Stack (using built-ins)\n",
    "\n",
    "class Stack:\n",
    "    def __init__(self):\n",
    "        self.items = []\n",
    "\n",
    "    def push(self, value):\n",
    "        self.items.append(value)\n",
    "\n",
    "    def pop(self):\n",
    "        return self.items.pop()\n",
    "\n",
    "    #nice to have methods\n",
    "    def size(self):\n",
    "        return len(self.items)\n",
    "\n",
    "    def peek(self):\n",
    "        return self.items[len(self.items)-1]\n",
    "\n",
    "    def is_empty(self):\n",
    "        return self.items == []"
   ]
  },
  {
   "cell_type": "code",
   "execution_count": 4,
   "id": "64083001-45e3-46a5-8276-b8d443f97b91",
   "metadata": {},
   "outputs": [
    {
     "data": {
      "text/plain": [
       "'lliW'"
      ]
     },
     "execution_count": 4,
     "metadata": {},
     "output_type": "execute_result"
    }
   ],
   "source": [
    "def invert_str(somestring):\n",
    "    stack = Stack()\n",
    "    for char in somestring:\n",
    "        stack.push(char)\n",
    "    out = \"\"\n",
    "    while not stack.is_empty():\n",
    "        out += stack.pop()\n",
    "    return out\n",
    "\n",
    "invert_str(\"Will\")"
   ]
  },
  {
   "cell_type": "code",
   "execution_count": 6,
   "id": "7dfb5a9e-6ac2-41e4-8c39-224e8d4b0a74",
   "metadata": {},
   "outputs": [
    {
     "name": "stdout",
     "output_type": "stream",
     "text": [
      "4885430208\n",
      "4885430208\n"
     ]
    }
   ],
   "source": [
    "#Other data types and structures pass by reference \n",
    "\n",
    "x = [1,2,3]\n",
    "y = x\n",
    "y.append(4)\n",
    "\n",
    "print(id(x))\n",
    "print(id(y))"
   ]
  },
  {
   "cell_type": "code",
   "execution_count": 9,
   "id": "9d280570-56ac-433d-b556-70ab61d1835a",
   "metadata": {},
   "outputs": [],
   "source": [
    "class StackII:\n",
    "    class __Node:\n",
    "        def __init__ (self, data):\n",
    "            self.data = data\n",
    "            self.below = None\n",
    "\n",
    "    def __init__(self):\n",
    "        self.top = None\n",
    "\n",
    "    def push(self, value):\n",
    "        new_node = self.__Node(value)\n",
    "        if not self.top: # this is the same as \"if self.top == Non\"\n",
    "            self.top = new_node\n",
    "        else:\n",
    "            new_node.below = self.top\n",
    "            self.top = new_node\n",
    "\n",
    "    def pop(self):\n",
    "        if self.top:\n",
    "            datum = self.top.data\n",
    "            self.top = self.top.below\n",
    "            return datum\n",
    "        raise IndexError(\"Stack is empty\")\n",
    "\n",
    "    # nice to have methods\n",
    "    def seize(self):\n",
    "        pass\n",
    "\n",
    "    def peek(self):\n",
    "        pass\n",
    "\n",
    "    def is_empty(self):\n",
    "        return self.top == None "
   ]
  },
  {
   "cell_type": "code",
   "execution_count": null,
   "id": "c68132dd-2d9c-4551-b222-5e27b9906b1b",
   "metadata": {},
   "outputs": [],
   "source": []
  }
 ],
 "metadata": {
  "kernelspec": {
   "display_name": "Python 3 (ipykernel)",
   "language": "python",
   "name": "python3"
  },
  "language_info": {
   "codemirror_mode": {
    "name": "ipython",
    "version": 3
   },
   "file_extension": ".py",
   "mimetype": "text/x-python",
   "name": "python",
   "nbconvert_exporter": "python",
   "pygments_lexer": "ipython3",
   "version": "3.11.8"
  }
 },
 "nbformat": 4,
 "nbformat_minor": 5
}
