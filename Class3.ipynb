{
 "cells": [
  {
   "cell_type": "code",
   "execution_count": 4,
   "id": "11208216-3585-4aae-98ed-446dd9828b67",
   "metadata": {},
   "outputs": [],
   "source": [
    "#Simplified implementation of Queue (using built-ins)\n",
    "\n",
    "class QueueII:\n",
    "    class __Node:\n",
    "        def __init__(self, value):\n",
    "            self.value = value\n",
    "            self.next = None\n",
    "\n",
    "    def __init__(self):\n",
    "        self.front = None\n",
    "        self.rear = None\n",
    "        self._size = 0 \n",
    "\n",
    "    def enqueue(self, value):\n",
    "        self._size += 1\n",
    "        new_node = self.__Node(value)\n",
    "        if self.is_empty:\n",
    "            self.front = new_node\n",
    "            self.rear = new_node\n",
    "        else:\n",
    "            self.rear.next = new_node\n",
    "            self.rear = new_node\n",
    "            \n",
    "\n",
    "    def dequeue(self):\n",
    "        if self.is_empty:\n",
    "            raise IndexError(\"Queue is empty\")\n",
    "        datum = self.front.value\n",
    "        self.front = self.front.next\n",
    "        self._size -= 1\n",
    "        if self.front is None:\n",
    "            self.rear = None\n",
    "        return datum \n",
    "        \n",
    "\n",
    "  \n",
    "    @property\n",
    "    def is_empty(self):\n",
    "        return self.front is None"
   ]
  },
  {
   "cell_type": "code",
   "execution_count": null,
   "id": "ddf32a12-b56e-43f7-9fbc-72393c6eed87",
   "metadata": {},
   "outputs": [],
   "source": []
  }
 ],
 "metadata": {
  "kernelspec": {
   "display_name": "Python 3 (ipykernel)",
   "language": "python",
   "name": "python3"
  },
  "language_info": {
   "codemirror_mode": {
    "name": "ipython",
    "version": 3
   },
   "file_extension": ".py",
   "mimetype": "text/x-python",
   "name": "python",
   "nbconvert_exporter": "python",
   "pygments_lexer": "ipython3",
   "version": "3.11.8"
  }
 },
 "nbformat": 4,
 "nbformat_minor": 5
}
